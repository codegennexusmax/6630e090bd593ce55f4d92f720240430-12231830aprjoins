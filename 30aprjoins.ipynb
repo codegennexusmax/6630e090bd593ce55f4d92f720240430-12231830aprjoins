{
 "cells": [
  {
   "cell_type": "markdown",
   "id": "ae44198e",
   "metadata": {},
   "source": [
    "***GENERATED CODE FOR 30aprjoins PIPELINE.***"
   ]
  },
  {
   "cell_type": "markdown",
   "id": "7d60d5f2",
   "metadata": {},
   "source": [
    "***DON'T EDIT THIS CODE.***"
   ]
  },
  {
   "cell_type": "markdown",
   "id": "51fcd26c",
   "metadata": {},
   "source": [
    "***CONNECTOR FUNCTIONS TO READ DATA.***"
   ]
  },
  {
   "cell_type": "code",
   "execution_count": null,
   "id": "9d17b5fb",
   "metadata": {},
   "outputs": [],
   "source": [
    "import os\n",
    "import datetime\n",
    "import logging\n",
    "import warnings\n",
    "warnings.filterwarnings('ignore')\n",
    "logging.basicConfig(format='%(levelname)s:%(message)s', level=logging.INFO)\n",
    "\n",
    "\n",
    "class HDFSConnector:\n",
    "\n",
    "    def fetch(spark, config):\n",
    "        ################### INPUT HADOOP HOST PORT TO CONNECT WITH ###############################\n",
    "        hdfs_server = str(os.environ['HDFS_SERVER'])\n",
    "        hdfs_port = int(os.environ['HDFS_PORT'])\n",
    "        df = spark.read.options(header='true', inferschema='true').csv(\n",
    "            f\"hdfs://{hdfs_server}:{hdfs_port}{eval(config)['url']}\", header='true')\n",
    "        display(df.limit(2).toPandas())\n",
    "        return df\n",
    "\n",
    "    def put(df, spark, config):\n",
    "        return df.write.format('csv').options(header='true' if eval(config)[\"is_header\"] == \"Use Header Line\" else 'false',\n",
    "                                              delimiter=eval(config)[\"delimiter\"]).save((\"%s %s\") % (datetime.datetime.now().strftime(\"%Y-%m-%d %H.%M.%S\")+\"_\", eval(config)['url']))\n"
   ]
  },
  {
   "cell_type": "markdown",
   "id": "ad79297b",
   "metadata": {},
   "source": [
    "***OPERATION FUNCTIONS***"
   ]
  },
  {
   "cell_type": "code",
   "execution_count": null,
   "id": "770867e6",
   "metadata": {},
   "outputs": [],
   "source": [
    "\n",
    "\n",
    "def QueryEditor(spark, joindataobj):\n",
    "    for source in joindataobj[\"sourcesForQuery\"]:\n",
    "        sourcename = source['sourcename']\n",
    "        source['sourcename'] = spark.read.options(header='true', inferschema='true', delimiter=',')\\\n",
    "            .csv('dbfs:' + source['sourcepath'])\n",
    "        source['sourcename'].createOrReplaceTempView(sourcename)\n",
    "    joinedDf = spark.sql(joindataobj['querytext'])\n",
    "    df = removeIfDuplicates(joinedDf)\n",
    "    print(display(df.limit(2).toPandas()))\n",
    "    return df\n",
    "\n",
    "\n",
    "def removeIfDuplicates(joinedDf):\n",
    "    cols_new = []\n",
    "    seen = set()\n",
    "    for c in joinedDf.columns:\n",
    "        cols_new.append('{}_dup'.format(c) if c in seen else c)\n",
    "        seen.add(c)\n",
    "    df = joinedDf.toDF(*cols_new).select(*\n",
    "                                         [c for c in cols_new if not c.endswith('_dup')])\n",
    "    return df\n"
   ]
  },
  {
   "cell_type": "markdown",
   "id": "3625d660",
   "metadata": {},
   "source": [
    "***CONNECTOR FUNCTIONS TO WRITE DATA.***"
   ]
  },
  {
   "cell_type": "code",
   "execution_count": null,
   "id": "d820e78b",
   "metadata": {},
   "outputs": [],
   "source": [
    "import datetime\n",
    "import requests\n",
    "import datetime\n",
    "import logging\n",
    "import warnings\n",
    "warnings.filterwarnings('ignore')\n",
    "logging.basicConfig(format='%(levelname)s:%(message)s', level=logging.INFO)\n",
    "\n",
    "\n",
    "class NumtraConnector:\n",
    "\n",
    "    def put(inStages, inStagesData, stageId, spark, config):\n",
    "        path = eval(config)['server_url']\n",
    "        baseType = eval(config)['baseType']\n",
    "        results_url = eval(config)['results_url']\n",
    "        server = eval(config)['server']\n",
    "        originalfile = eval(config)['orignalKey']\n",
    "        eval(config)['pathOnly']\n",
    "        filename = eval(config)['filename']\n",
    "        eval(config)['ser']\n",
    "        eval(config)['user']\n",
    "        eval(config)['password']\n",
    "        eval(config)['authSource']\n",
    "        eval(config)['user_id']\n",
    "        eval(config)['parent_id']\n",
    "        eval(config)['project_id']\n",
    "        time = str(int(datetime.datetime.now().timestamp()))\n",
    "\n",
    "        inStagesData[inStages[0]]\n",
    "\n",
    "        print(path)\n",
    "        print(baseType)\n",
    "        print(results_url)\n",
    "        print(server)\n",
    "        print(originalfile)\n",
    "        print(filename)\n",
    "\n",
    "        args = {\n",
    "            'url': path,\n",
    "            'baseType': baseType,\n",
    "            'originalfile': originalfile,\n",
    "            'filename': time + filename\n",
    "        }\n",
    "\n",
    "        response = requests.post(results_url, args)\n",
    "        return response\n"
   ]
  },
  {
   "cell_type": "markdown",
   "id": "00fccb7d",
   "metadata": {},
   "source": [
    "***READING DATAFRAME***"
   ]
  },
  {
   "cell_type": "code",
   "execution_count": null,
   "id": "a6208791",
   "metadata": {},
   "outputs": [],
   "source": [
    "############## CREATE SPARK SESSION ############################ ENTER YOUR SPARK MASTER IP AND PORT TO CONNECT TO SERVER ################\n",
    "from pyspark.sql import SparkSession\n",
    "spark = SparkSession.builder.master('local[1]').getOrCreate()\n",
    "#%run 30aprjoinsHooks.ipynb\n",
    "try:\n",
    "\t#sourcePreExecutionHook()\n",
    "\t\theartfailurep = HDFSConnector.fetch(spark, \"{'url': '/FileStore/platform/testdata/1714462166133_HeartFailureP2.csv', 'filename': 'HeartFailureP2.csv', 'delimiter': ',', 'file_type': 'Delimeted', 'FilePath': '/OperatorsTest/OperatorsDataset/HeartFailureP2.csv', 'viewFileName': 'HeartFailureP2.csv', 'is_header': 'Use Header Line', 'baseType': 'hdfs', 'server_url': '/nexusMax/NexusMaxPlatform/uploads/platform/'}\")\n",
    "\n",
    "\n",
    "\n",
    "\theartfailurep = HDFSConnector.fetch(spark, \"{'url': '/FileStore/platform/testdata/1714476320956_HeartFailureP1.csv', 'filename': 'HeartFailureP1.csv', 'delimiter': ',', 'file_type': 'Delimeted', 'dbfs_token': '', 'dbfs_domain': '', 'FilePath': '/OperatorsTest/OperatorsDataset/HeartFailureP1.csv', 'viewFileName': 'HeartFailureP1.csv', 'is_header': 'Use Header Line', 'baseType': 'hdfs', 'server_url': '/nexusMax/NexusMaxPlatform/uploads/platform/', 'results_url': 'http://dnm.bfirst.ai:44040/api/read/hdfs'}\")\n",
    "\n",
    "except Exception as ex: \n",
    "\tlogging.error(ex)\n",
    "#spark.stop()\n"
   ]
  },
  {
   "cell_type": "markdown",
   "id": "6e961f1d",
   "metadata": {},
   "source": [
    "***PERFORMING OPERATIONS***"
   ]
  },
  {
   "cell_type": "code",
   "execution_count": null,
   "id": "b6ee69fd",
   "metadata": {},
   "outputs": [],
   "source": [
    "#%run 30aprjoinsHooks.ipynb\n",
    "try:\n",
    "\t#operationPreExecutionHook()\n",
    "\n",
    "\tjoin = QueryEditor(spark, {\"querytext\": \"select * from heartfailurep1 left join heartfailurep2 on heartfailurep1.age = heartfailurep2.age\", \"sourcesForQuery\": [{\"sourcename\": \"heartfailurep2\", \"sourceinfo\": {\"source\": \"hdfs\", \"sourceAttributes\": {\"url\": \"/FileStore/platform/testdata/1714462166133_HeartFailureP2.csv\"}}, \"sourceid\": \"6630e0b3bd593ce55f4d9416\"}, {\"sourcename\": \"heartfailurep1\", \"sourceinfo\": {\"source\": \"hdfs\", \"sourceAttributes\": {\"url\": \"/FileStore/platform/testdata/1714476320956_HeartFailureP1.csv\"}}, \"sourceid\": \"6630e0b1bd593ce55f4d940f\"}], \"fieldsForQuery\": [{\"sourcename\": \"heartfailurep2\", \"fieldname\": \"age\"}, {\"sourcename\": \"heartfailurep1\", \"fieldname\": \"age\"}]})\n",
    "\t#operationPostExecutionHook(join)\n",
    "\n",
    "except Exception as ex: \n",
    "\tlogging.error(ex)\n"
   ]
  },
  {
   "cell_type": "markdown",
   "id": "c7a936a7",
   "metadata": {},
   "source": [
    "***WRITING DATAFRAME***"
   ]
  },
  {
   "cell_type": "code",
   "execution_count": null,
   "id": "5180d2c4",
   "metadata": {},
   "outputs": [],
   "source": [
    "#%run 30aprjoinsHooks.ipynb\n",
    "try:\n",
    "\t#sinkPreExecutionHook()\n",
    "\n",
    "\toperatorsdatasetoutput = NumtraConnector.fetch(spark, \"{'samplefile': '/FileStore/platform/sampleData/6630e0b3bd593ce55f4d9413JoinStage/part-00000-eb001650-89ec-4195-85c0-205bf12d2300-c000.csv', 'samplecount': 973, 'originalcount': 973, 'orignalKey': '/FileStore/platform/sampleData/6630e0b3bd593ce55f4d9413JoinStage/part-00000-eb001650-89ec-4195-85c0-205bf12d2300-c000.csv', 'pathOnly': '/OperatorsTest/OperatorsDataset', 'project_id': '6627a219b6d893f4c9a9ee24', 'parent_id': '6627a219b6d893f4c9a9ee24', 'original_schema': [{'checked': True, 'inherited': True, 'is_categorical': False, 'bad_values': '', 'nullable': 'true', '_id': '6630e281bd593ce55f4d94f0', 'field': 'ejection_fraction', 'alias': 'ejection_fraction', 'position': '0'}, {'checked': True, 'inherited': True, 'is_categorical': False, 'bad_values': '', 'nullable': 'true', '_id': '6630e281bd593ce55f4d94f1', 'field': 'high_blood_pressure', 'alias': 'high_blood_pressure', 'position': '1'}, {'checked': True, 'inherited': True, 'is_categorical': False, 'bad_values': '', 'nullable': 'true', '_id': '6630e281bd593ce55f4d94f2', 'field': 'platelets', 'alias': 'platelets', 'position': '2'}, {'checked': True, 'inherited': True, 'is_categorical': False, 'bad_values': '', 'nullable': 'true', '_id': '6630e281bd593ce55f4d94f3', 'field': 'serum_creatinine', 'alias': 'serum_creatinine', 'position': '3'}, {'checked': True, 'inherited': True, 'is_categorical': False, 'bad_values': '', 'nullable': 'true', '_id': '6630e281bd593ce55f4d94f4', 'field': 'serum_sodium', 'alias': 'serum_sodium', 'position': '4'}, {'checked': True, 'inherited': True, 'is_categorical': False, 'bad_values': '', 'nullable': 'true', '_id': '6630e281bd593ce55f4d94f5', 'field': 'sex', 'alias': 'sex', 'position': '5'}, {'checked': True, 'inherited': True, 'is_categorical': False, 'bad_values': '', 'nullable': 'true', '_id': '6630e281bd593ce55f4d94f6', 'field': 'smoking', 'alias': 'smoking', 'position': '6'}, {'checked': True, 'inherited': True, 'is_categorical': False, 'bad_values': '', 'nullable': 'true', '_id': '6630e281bd593ce55f4d94f7', 'field': 'time', 'alias': 'time', 'position': '7'}, {'checked': True, 'inherited': True, 'is_categorical': False, 'bad_values': '', 'nullable': 'true', '_id': '6630e281bd593ce55f4d94f8', 'field': 'DEATH_EVENT', 'alias': 'DEATH_EVENT', 'position': '8'}, {'checked': True, 'inherited': True, 'is_categorical': False, 'bad_values': '', 'nullable': 'true', '_id': '6630e281bd593ce55f4d94f9', 'field': 'age', 'alias': 'age', 'position': '9'}, {'checked': True, 'inherited': True, 'is_categorical': False, 'bad_values': '', 'nullable': 'true', '_id': '6630e281bd593ce55f4d94fa', 'field': 'anaemia', 'alias': 'anaemia', 'position': '10'}, {'checked': True, 'inherited': True, 'is_categorical': False, 'bad_values': '', 'nullable': 'true', '_id': '6630e281bd593ce55f4d94fb', 'field': 'creatinine_phosphokinase', 'alias': 'creatinine_phosphokinase', 'position': '11'}, {'checked': True, 'inherited': True, 'is_categorical': False, 'bad_values': '', 'nullable': 'true', '_id': '6630e281bd593ce55f4d94fc', 'field': 'diabetes', 'alias': 'diabetes', 'position': '12'}], 'actual_schema': [{'checked': True, 'inherited': True, 'is_categorical': False, 'bad_values': '', 'nullable': 'true', '_id': '6630e281bd593ce55f4d94e3', 'field': 'ejection_fraction', 'alias': 'ejection_fraction', 'type': 'numeric'}, {'checked': True, 'inherited': True, 'is_categorical': False, 'bad_values': '', 'nullable': 'true', '_id': '6630e281bd593ce55f4d94e4', 'field': 'high_blood_pressure', 'alias': 'high_blood_pressure', 'type': 'numeric'}, {'checked': True, 'inherited': True, 'is_categorical': False, 'bad_values': '', 'nullable': 'true', '_id': '6630e281bd593ce55f4d94e5', 'field': 'platelets', 'alias': 'platelets', 'type': 'real'}, {'checked': True, 'inherited': True, 'is_categorical': False, 'bad_values': '', 'nullable': 'true', '_id': '6630e281bd593ce55f4d94e6', 'field': 'serum_creatinine', 'alias': 'serum_creatinine', 'type': 'real'}, {'checked': True, 'inherited': True, 'is_categorical': False, 'bad_values': '', 'nullable': 'true', '_id': '6630e281bd593ce55f4d94e7', 'field': 'serum_sodium', 'alias': 'serum_sodium', 'type': 'numeric'}, {'checked': True, 'inherited': True, 'is_categorical': False, 'bad_values': '', 'nullable': 'true', '_id': '6630e281bd593ce55f4d94e8', 'field': 'sex', 'alias': 'sex', 'type': 'numeric'}, {'checked': True, 'inherited': True, 'is_categorical': False, 'bad_values': '', 'nullable': 'true', '_id': '6630e281bd593ce55f4d94e9', 'field': 'smoking', 'alias': 'smoking', 'type': 'numeric'}, {'checked': True, 'inherited': True, 'is_categorical': False, 'bad_values': '', 'nullable': 'true', '_id': '6630e281bd593ce55f4d94ea', 'field': 'time', 'alias': 'time', 'type': 'numeric'}, {'checked': True, 'inherited': True, 'is_categorical': False, 'bad_values': '', 'nullable': 'true', '_id': '6630e281bd593ce55f4d94eb', 'field': 'DEATH_EVENT', 'alias': 'DEATH_EVENT', 'type': 'numeric'}, {'checked': True, 'inherited': True, 'is_categorical': False, 'bad_values': '', 'nullable': 'true', '_id': '6630e281bd593ce55f4d94ec', 'field': 'age', 'alias': 'age', 'type': 'real'}, {'checked': True, 'inherited': True, 'is_categorical': False, 'bad_values': '', 'nullable': 'true', '_id': '6630e281bd593ce55f4d94ed', 'field': 'anaemia', 'alias': 'anaemia', 'type': 'numeric'}, {'checked': True, 'inherited': True, 'is_categorical': False, 'bad_values': '', 'nullable': 'true', '_id': '6630e281bd593ce55f4d94ee', 'field': 'creatinine_phosphokinase', 'alias': 'creatinine_phosphokinase', 'type': 'numeric'}, {'checked': True, 'inherited': True, 'is_categorical': False, 'bad_values': '', 'nullable': 'true', '_id': '6630e281bd593ce55f4d94ef', 'field': 'diabetes', 'alias': 'diabetes', 'type': 'numeric'}], 'server': 'https://dnm.bfirst.ai:443', 'server_url': '/nexusMax/NexusMaxPlatform/uploads/platform/', 'delimiter': ',', 'file_type': 'Delimeted', 'filename': '30AprLeftJoinOP.csv', 'token': '', 'domain': '', 'is_header': 'Use Header Line', 'url': '/FileStore/platform/uploadedSourceFiles/part-00000-9e76def5-0737-4938-bf30-26bb0bfdf9cc-c000.csv', 'results_url': 'http://dnm.bfirst.ai:44040/api/read/hdfs'}\")\n",
    "\n",
    "except Exception as ex: \n",
    "\tlogging.error(ex)\n"
   ]
  }
 ],
 "metadata": {},
 "nbformat": 4,
 "nbformat_minor": 5
}
